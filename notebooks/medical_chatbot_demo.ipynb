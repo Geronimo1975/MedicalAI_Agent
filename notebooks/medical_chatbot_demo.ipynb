{
 "cells": [
  {
   "cell_type": "markdown",
   "metadata": {},
   "source": [
    "# Medical Chatbot with Document Integration Demo\n",
    "\n",
    "This notebook demonstrates how to use our medical chatbot with the integrated medical documentation support."
   ]
  },
  {
   "cell_type": "code",
   "execution_count": null,
   "metadata": {},
   "source": [
    "import sys\n",
    "sys.path.append('..')\n",
    "from app.chatbot import DocumentProcessor, ChatbotService\n",
    "from IPython.display import display, Markdown"
   ]
  },
  {
   "cell_type": "markdown",
   "metadata": {},
   "source": [
    "## Initialize Document Processor\n",
    "\n",
    "First, let's initialize the document processor that will handle our medical documentation."
   ]
  },
  {
   "cell_type": "code",
   "execution_count": null,
   "metadata": {},
   "source": [
    "doc_processor = DocumentProcessor()\n",
    "print(\"Document processor initialized successfully!\")"
   ]
  },
  {
   "cell_type": "markdown",
   "metadata": {},
   "source": [
    "## Test Document Search\n",
    "\n",
    "Let's test searching the medical documentation for relevant information."
   ]
  },
  {
   "cell_type": "code",
   "execution_count": null,
   "metadata": {},
   "source": [
    "def search_docs(query):\n",
    "    results = doc_processor.search_documentation(query)\n",
    "    for i, result in enumerate(results, 1):\n",
    "        display(Markdown(f\"### Result {i}\\n{result}\"))\n",
    "\n",
    "# Test with a sample query\n",
    "search_docs(\"What are the common symptoms of infectious diseases?\")"
   ]
  },
  {
   "cell_type": "markdown",
   "metadata": {},
   "source": [
    "## Test Chatbot Integration\n",
    "\n",
    "Now let's test the chatbot with document integration."
   ]
  },
  {
   "cell_type": "code",
   "execution_count": null,
   "metadata": {},
   "source": [
    "def chat_with_context(query):\n",
    "    # Get relevant context from documentation\n",
    "    context = doc_processor.get_relevant_context(query)\n",
    "    \n",
    "    # Create a chat session\n",
    "    session = ChatbotService.create_session(user_id=1)  # Demo user ID\n",
    "    \n",
    "    # Get response with context\n",
    "    response = ChatbotService.get_response(\n",
    "        session.id,\n",
    "        f\"Context from medical documentation: {context}\\n\\nUser question: {query}\"\n",
    "    )\n",
    "    \n",
    "    display(Markdown(f\"### Response\\n{response}\"))\n",
    "\n",
    "# Test with sample medical questions\n",
    "questions = [\n",
    "    \"What are the recommended treatments for bacterial infections?\",\n",
    "    \"How should I diagnose a patient with fever and fatigue?\",\n",
    "    \"What are the common side effects of antibiotics?\"\n",
    "]\n",
    "\n",
    "for question in questions:\n",
    "    print(f\"\\nQuestion: {question}\")\n",
    "    chat_with_context(question)"
   ]
  }
 ],
 "metadata": {
  "kernelspec": {
   "display_name": "Python 3",
   "language": "python",
   "name": "python3"
  },
  "language_info": {
   "codemirror_mode": {
    "name": "ipython",
    "version": 3
   },
   "file_extension": ".py",
   "mimetype": "text/x-python",
   "name": "python",
   "nbconvert_exporter": "python",
   "pygments_lexer": "ipython3",
   "version": "3.11.0"
  }
 },
 "nbformat": 4,
 "nbformat_minor": 4
}
